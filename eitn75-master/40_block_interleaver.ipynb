{
 "cells": [
  {
   "cell_type": "markdown",
   "metadata": {},
   "source": [
    "# Block interleaver\n",
    "\n",
    "## Reading\n",
    "Read Chapter 14.8 in the course book. Especially the part regarding block interleavers. Convolutional interleavers is also treated in the chapter, and very important, but nothing that will be implemented in this hand in.\n",
    "The section on interleaving on [Wikipedia](https://en.wikipedia.org/wiki/Error_correction_code#Interleaving) is a good overview of the purpose and need for interleavers. [This](https://web.stanford.edu/group/cioffi/doc/book/chap11.pdf) pdf is also a good read.\n",
    "\n",
    "## Questions\n",
    "Following questions needs to be answered in the handin. If you are working in a python file (.py), put the answers as comments in the top of the file.\n",
    "\n",
    "    1. What is the purpose of interleavers?\n",
    "    2. Why does it _not_ improve the mean BER for uncoded system?\n",
    "    3. What is the latency for the block interleaver in Figure 14.26?\n",
    "    4. How long is the distance between to adjacent bits after interleaving?\n",
    "\n",
    "\n",
    "## Expectations\n",
    "Implement the interleave *and* deinterleave methods.\n",
    "\n",
    "```python\n",
    "def interleave(...):\n",
    "    \"\"\"\n",
    "    YOUR CODE\n",
    "    \"\"\"\n",
    "    return # Something here\n",
    "\n",
    "def deinterleave(...):\n",
    "    \"\"\"\n",
    "    YOUR CODE\n",
    "    \"\"\"\n",
    "    return # Something here\n",
    "```\n",
    "\n",
    "\n",
    "## Handing in the code\n",
    "The file that you will upload to Moodle *__must__* be named as: **a3\\_*firstname*\\_*lastname*.(py/ipynb)**."
   ]
  },
  {
   "cell_type": "code",
   "execution_count": null,
   "metadata": {},
   "outputs": [],
   "source": []
  }
 ],
 "metadata": {
  "kernelspec": {
   "display_name": "Python 3",
   "language": "python",
   "name": "python3"
  },
  "language_info": {
   "codemirror_mode": {
    "name": "ipython",
    "version": 3
   },
   "file_extension": ".py",
   "mimetype": "text/x-python",
   "name": "python",
   "nbconvert_exporter": "python",
   "pygments_lexer": "ipython3",
   "version": "3.7.3"
  }
 },
 "nbformat": 4,
 "nbformat_minor": 2
}
