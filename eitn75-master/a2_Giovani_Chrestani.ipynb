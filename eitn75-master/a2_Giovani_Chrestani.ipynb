{
 "cells": [
  {
   "cell_type": "markdown",
   "metadata": {},
   "source": [
    "# Assignment 2\n",
    "\n",
    "## Questions\n",
    "\n",
    "   1. The code can be constructed as a systematic code, what does this mean?\n",
    "   \n",
    "       This means that the code will have well defined places for the allocation of the information bits and the parity check bits.\n",
    "       \n",
    "       \n",
    "   2. That the code is linear is an important fact that simplfies the implementation drastically. \n",
    "   \n",
    "       a) What does it mean that a code is linear?\n",
    "       \n",
    "       A linear code is a code which is defined as a linear combination of basis codes.\n",
    "       \n",
    "       b) What is it that becomes easier?\n",
    "       \n",
    "       For example, if we would have to build a table of all possible codes for a K number of information bits in a codeword, this table would contain $2^K$ items. Using linear codes, the number of items would decrease to just $K$ basis codes. All the theory of using the matrixes $G$ and $H$ for encoding and decoding information, is possible if linear codes are used.\n",
    "       \n",
    "       \n",
    "   3. How many errors can the Hamming(7,4) code detect and correct?\n",
    "       \n",
    "       The Hamming(7,4) code can detect errors to which the Hamming distance between the transmitted and received codes is less or equal to 2. It can correct successfully errors with unitary weight.\n",
    "       \n",
    "### Definitions\n",
    "\n",
    "   1. Generator Matrix $G$:\n",
    "   \n",
    "   This is the matrix that will generate an $N$ digits codeword from the $K$ information bits given. This is done according to the following transformation:\n",
    "   $$ x=uG $$\n",
    "   Where $x$ is the $N$ bits vector output and $u$ is the $K$ bits vector input\n",
    "   \n",
    "   \n",
    "   2. Parity Check Matrix $H$:\n",
    "   \n",
    "   This is the matrix used to check if the received codeword $\\hat{x}$ is valid or not. If the transformation $\\hat{x}H^T$ gives the null vector it means that the received codeword is valid.\n",
    "   \n",
    "   \n",
    "   3. Syndrome Vector $s_{synd}$:\n",
    "   \n",
    "   The syndrome vector is symply defined as $s_{synd}=\\hat{x}H^T$. As described in item 2 of this section, this vector is used to check the validity of the received codeword."
   ]
  },
  {
   "cell_type": "markdown",
   "metadata": {},
   "source": [
    "## Coding and decoding\n",
    "\n",
    "Now we start building the functions that will do the encoding and the decoding"
   ]
  },
  {
   "cell_type": "code",
   "execution_count": 7,
   "metadata": {},
   "outputs": [
    {
     "name": "stdout",
     "output_type": "stream",
     "text": [
      "[[0 0 0 1 1 1 1]]\n"
     ]
    }
   ],
   "source": [
    "import numpy as np\n",
    "\n",
    "def encode(u):   \n",
    "    G = np.matrix('1, 0, 0, 0, 1, 1, 0;0,1,0,0,1,0,1;0 0 1 0 0 1 1;0 0 0 1 1 1 1')\n",
    "    x=u*G   # This resul will be given in decimal values\n",
    "    x=x%2   # To convert to binary we can just take the values, divide each one by 2 and take what remains in the division\n",
    "    return x\n",
    "#If we use the example 14.2 of the book\n",
    "x=encode([0,0,0,1])\n",
    "print(x)\n"
   ]
  },
  {
   "cell_type": "markdown",
   "metadata": {},
   "source": [
    "This value above checks with equation 14.31 of the textbook"
   ]
  },
  {
   "cell_type": "code",
   "execution_count": 136,
   "metadata": {},
   "outputs": [],
   "source": [
    "def decode(x_hat):\n",
    "    H = np.matrix('1,1,0,1,1,0,0;1,0,1,1,0,1,0;0,1,1,1,0,0,1') # eq. 14.33 of the  textbook\n",
    "    s=x_hat*H.transpose() # Defining the syndrome vector\n",
    "    s=s%2 # Taking in binary digits\n",
    "    \n",
    "    # Now we check which column of the transpose of matrix H the syndrome vector correspond to and correct the input \n",
    "    # vector in that position\n",
    "    \n",
    "    if s[0,0]==0 and s[0,1]==0 and s[0,2]==0:\n",
    "        return [x_hat[0],x_hat[1],x_hat[2],x_hat[3]]\n",
    "    else:\n",
    "        for i in range(7):\n",
    "            if s[0,0]==H.transpose()[i,0] and s[0,1]==H.transpose()[i,1] and s[0,2]==H.transpose()[i,2]:\n",
    "                break\n",
    "        x_hat[i]=x_hat[i]+1\n",
    "        x_hat[:]=[y%2 for y in x_hat]\n",
    "        return [x_hat[0],x_hat[1],x_hat[2],x_hat[3]]"
   ]
  },
  {
   "cell_type": "markdown",
   "metadata": {},
   "source": [
    "In order to check if the decoding is doing its job the way we expect, it is a good idea to take the example from the book again. We know that, for $\\hat{x}=[1 0 1 1 0 1 0]$, the decoding should give us the first four digits of the code word, as this is a valid codeword (see example 14.2)."
   ]
  },
  {
   "cell_type": "code",
   "execution_count": 133,
   "metadata": {},
   "outputs": [
    {
     "name": "stdout",
     "output_type": "stream",
     "text": [
      "[1, 0, 1, 1]\n"
     ]
    }
   ],
   "source": [
    "x_hat=[1,0,1,1,0,1,0]\n",
    "print(decode(x_hat))"
   ]
  },
  {
   "cell_type": "markdown",
   "metadata": {},
   "source": [
    "The code printed checks!\n",
    "\n",
    "Now, if one digit is changed, for instance $\\hat{x}=[1 1 1 1 0 1 0]$ , the decoding should still give us the same codeword as before, as the Hamming(7,4) coding can correct successfully one bit of error."
   ]
  },
  {
   "cell_type": "code",
   "execution_count": 135,
   "metadata": {},
   "outputs": [
    {
     "name": "stdout",
     "output_type": "stream",
     "text": [
      "[1, 0, 1, 1]\n"
     ]
    }
   ],
   "source": [
    "x_hat=[1,1,1,1,0,1,0]\n",
    "print(decode(x_hat))"
   ]
  },
  {
   "cell_type": "markdown",
   "metadata": {},
   "source": [
    "This is what we expected."
   ]
  },
  {
   "cell_type": "code",
   "execution_count": null,
   "metadata": {},
   "outputs": [],
   "source": []
  }
 ],
 "metadata": {
  "kernelspec": {
   "display_name": "Python 3",
   "language": "python",
   "name": "python3"
  },
  "language_info": {
   "codemirror_mode": {
    "name": "ipython",
    "version": 3
   },
   "file_extension": ".py",
   "mimetype": "text/x-python",
   "name": "python",
   "nbconvert_exporter": "python",
   "pygments_lexer": "ipython3",
   "version": "3.7.3"
  }
 },
 "nbformat": 4,
 "nbformat_minor": 2
}
