{
 "cells": [
  {
   "cell_type": "markdown",
   "metadata": {},
   "source": [
    "# Linear block code: Hamming(7,4)\n",
    "\n",
    "## Reading\n",
    "Read Chapter 14.2 in the course book.\n",
    "Also, the material on Wikipedia is good: [\\[1\\]](https://en.wikipedia.org/wiki/Hamming_code),[\\[2\\]](https://en.wikipedia.org/wiki/Hamming(7,4)).\n",
    "For even more material a simple search on the web will give plenty of relevant results.\n",
    "\n",
    "## Questions\n",
    "Following questions needs to be answered in the handin. If you are working in a python file (.py), put the answers as comments in the top of the file.\n",
    "\n",
    "    1. The code can be constructed as a systematic code, what does this mean?\n",
    "    2. That the code is linear is an important fact that simplfies the implementation drastically. \n",
    "       a) What does it mean that a code is linear?\n",
    "       b) What is it that becomes easier?\n",
    "    3. How many errors can the Hamming(7,4) code detect and correct?\n",
    "\n",
    "You will also have to state (clearly) what the matrices/vectors listed below are:\n",
    "- [*generator matrix*](https://en.wikipedia.org/wiki/Generator_matrix) <b>G</b>,\n",
    "- [*parity check matrix*](https://en.wikipedia.org/wiki/Parity-check_matrix) <b>H</b>,\n",
    "- [*syndrome vector*](https://en.wikipedia.org/wiki/Decoding_methods#Syndrome_decoding) <b>s</b>.\n",
    "\n",
    "You will have to use these matrices/vectors in your implementation.\n",
    "\n",
    "## Expectations\n",
    "Your will have to implement the encode *and* decode methods. The methods should have the following signatures:\n",
    "\n",
    "```python\n",
    "def encode(...):\n",
    "    \"\"\"\n",
    "    YOUR CODE\n",
    "    \"\"\"\n",
    "    return # Something here\n",
    "\n",
    "def decode(...):\n",
    "    \"\"\"\n",
    "    YOUR CODE\n",
    "    \"\"\"\n",
    "    return # Something here\n",
    "```\n",
    "\n",
    "You will have to show what happens (or not happens) when there is no error, and also you must show how it works if you induce an (one) error in the received block of bits.\n",
    "\n",
    "## Handing in the code\n",
    "The file that you will upload to Moodle *__must__* be named as: **a2\\_*firstname*\\_*lastname*.(py/ipynb)**.\n",
    "\n",
    "## Note!\n",
    "Since the channel code block is just one of the blocks in the wireless system, make sure that the output of your `encode`-function is easy to feed in to the next block. In our case, to the QPSK-block. This is not a formal requirement to pass this handin, but if you start to think of the structure of your code at this point it will become alot easier for the last assignment.\n",
    "\n",
    "Of course, the above alose applies in the receive chain: QPSK->Hamming-decoder"
   ]
  },
  {
   "cell_type": "markdown",
   "metadata": {},
   "source": [
    "# Implementation"
   ]
  },
  {
   "cell_type": "code",
   "execution_count": 1,
   "metadata": {},
   "outputs": [],
   "source": [
    "import numpy as np"
   ]
  },
  {
   "cell_type": "code",
   "execution_count": 2,
   "metadata": {},
   "outputs": [],
   "source": [
    "def encode():\n",
    "    pass\n",
    "\n",
    "def decode():\n",
    "    pass"
   ]
  },
  {
   "cell_type": "markdown",
   "metadata": {},
   "source": []
  }
 ],
 "metadata": {
  "kernelspec": {
   "display_name": "Python 3",
   "language": "python",
   "name": "python3"
  },
  "language_info": {
   "codemirror_mode": {
    "name": "ipython",
    "version": 3
   },
   "file_extension": ".py",
   "mimetype": "text/x-python",
   "name": "python",
   "nbconvert_exporter": "python",
   "pygments_lexer": "ipython3",
   "version": "3.7.3"
  }
 },
 "nbformat": 4,
 "nbformat_minor": 2
}
