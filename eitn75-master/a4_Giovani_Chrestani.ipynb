{
 "cells": [
  {
   "cell_type": "markdown",
   "metadata": {},
   "source": [
    "# Functions from the previous assignments\n",
    "\n",
    "\n",
    "## Modulation and demodulation"
   ]
  },
  {
   "cell_type": "code",
   "execution_count": 358,
   "metadata": {},
   "outputs": [],
   "source": [
    "import numpy as np\n",
    "\n",
    "def qpsk_modulation(bits):\n",
    "    qpsk_constellation=np.array([complex(1,1), complex(-1,1), complex(-1,-1), complex(1,-1)])\n",
    "\n",
    "    try:\n",
    "        return qpsk_constellation[bits]\n",
    "    except IndexError:\n",
    "        raise ValueError('{} is to large for this constellation.'.format(bin(bits)))        \n",
    "\n",
    "\n",
    "def qpsk_demodulation(received_symbol):\n",
    "\n",
    "    if received_symbol.real >= 0:\n",
    "        if received_symbol.imag >=0:            \n",
    "            return 0\n",
    "        else:\n",
    "            return 3\n",
    "    else:\n",
    "        if received_symbol.imag >=0:            \n",
    "            return 1\n",
    "        else:\n",
    "            return 2\n"
   ]
  },
  {
   "cell_type": "markdown",
   "metadata": {},
   "source": [
    "## Coding and decoding"
   ]
  },
  {
   "cell_type": "code",
   "execution_count": 359,
   "metadata": {},
   "outputs": [],
   "source": [
    "def encode(u):   \n",
    "    G = np.matrix('1, 0, 0, 0, 1, 1, 0;0,1,0,0,1,0,1;0 0 1 0 0 1 1;0 0 0 1 1 1 1')\n",
    "    x=u*G\n",
    "    x=x%2 \n",
    "    return x\n",
    "\n",
    "def decode(x_hat):\n",
    "    H = np.matrix('1,1,0,1,1,0,0;1,0,1,1,0,1,0;0,1,1,1,0,0,1')\n",
    "    s=x_hat*H.transpose()\n",
    "    s=s%2\n",
    "     \n",
    "    if s[0,0]==0 and s[0,1]==0 and s[0,2]==0:\n",
    "        return [x_hat[0],x_hat[1],x_hat[2],x_hat[3]]\n",
    "    else:\n",
    "        for i in range(7):\n",
    "            if s[0,0]==H.transpose()[i,0] and s[0,1]==H.transpose()[i,1] and s[0,2]==H.transpose()[i,2]:\n",
    "                break\n",
    "        x_hat[i]=x_hat[i]+1\n",
    "        x_hat[:]=[y%2 for y in x_hat]\n",
    "        return [x_hat[0],x_hat[1],x_hat[2],x_hat[3]]"
   ]
  },
  {
   "cell_type": "markdown",
   "metadata": {},
   "source": [
    "## Interleaving and deinterleaving"
   ]
  },
  {
   "cell_type": "code",
   "execution_count": 360,
   "metadata": {},
   "outputs": [],
   "source": [
    "def interleave(A):\n",
    "    return np.transpose(A)\n",
    "\n",
    "def deinterleave(A):\n",
    "    return np.transpose(A)"
   ]
  },
  {
   "cell_type": "markdown",
   "metadata": {},
   "source": [
    "# Addition of noise\n",
    "\n",
    "I have chosen the value for the variable scale on the function awgn_channel that gave me reasonable answers at the end. If the noise is too big, the use of coding and interleaving appear to be not efficient when comparing to the case without these procedures."
   ]
  },
  {
   "cell_type": "code",
   "execution_count": 361,
   "metadata": {},
   "outputs": [
    {
     "name": "stdout",
     "output_type": "stream",
     "text": [
      "[[-0.87580667+1.81523213j]]\n"
     ]
    }
   ],
   "source": [
    "def awgn_channel(symbols):\n",
    "     noise = np.random.normal(loc=0, scale=0.5, size=(1, 2)).view(np.complex128)\n",
    "     return  symbols + noise\n",
    "\n",
    "#print check\n",
    "print(awgn_channel(-1+1j))"
   ]
  },
  {
   "cell_type": "markdown",
   "metadata": {},
   "source": [
    "# The System\n",
    "\n",
    "For the final code I had to adapt the \"interface\" between one function and the other, as I didn't take that into account in the previous assignments. That took me a lot of thinking and time, that I thought wouldn't be so important to explain in details... The blocks are highlighted as comments in the python code."
   ]
  },
  {
   "cell_type": "code",
   "execution_count": 362,
   "metadata": {},
   "outputs": [
    {
     "name": "stdout",
     "output_type": "stream",
     "text": [
      "0.8963448660714302\n"
     ]
    }
   ],
   "source": [
    "length=7*2**12\n",
    "data = np.random.randint(0, 2, length)\n",
    "data2 = np.zeros((int(length/4),4))\n",
    "y=0\n",
    "for x in range(len(data)):\n",
    "    data2[y,x%4]=data[x]\n",
    "    if (x+1)%4==0:\n",
    "        y=y+1\n",
    "        \n",
    "# ENCODING\n",
    "encoded = np.zeros((len(data2),7))\n",
    "for x in range(len(data2)):\n",
    "    encoded[x,:]=encode(data2[x,:])\n",
    "    \n",
    "# INTERLEAVING\n",
    "interleaved = np.zeros((len(data2),7))\n",
    "x=0\n",
    "for y in range(len(encoded)):\n",
    "    if (y+1)%7==0:\n",
    "        interleaved[x:y+1,0:7]=interleave(encoded[x:y+1,0:7])\n",
    "        x=x+7\n",
    "        \n",
    "# MODULATION\n",
    "row_vector = np.zeros(7*len(interleaved))\n",
    "for x in range(len(row_vector)):\n",
    "    row_vector[x]=interleaved[int(x/7),x%7]\n",
    "\n",
    "decimal_vector = np.zeros(int(len(row_vector)/2))\n",
    "y=0\n",
    "for x in range(len(row_vector)):\n",
    "    if (x+1)%2==0:\n",
    "        a=row_vector[x-1]\n",
    "        b=row_vector[x]\n",
    "        decimal_vector[int(x/2)]=a*2+b\n",
    "\n",
    "modulated = np.random.normal(loc=0, scale=0, size=(len(decimal_vector),2)).view(np.complex128)\n",
    "\n",
    "for x in range(len(decimal_vector)):\n",
    "    modulated[x]=qpsk_modulation(int(decimal_vector[x]))\n",
    "    \n",
    "    \n",
    "# ADD THE NOISE\n",
    "received = np.random.normal(loc=0, scale=0, size=(len(decimal_vector),2)).view(np.complex128)\n",
    "for x in range(len(decimal_vector)):\n",
    "    received[x]=awgn_channel(modulated[x])\n",
    "    \n",
    "#DEMODULATION\n",
    "demodulated=np.zeros(len(decimal_vector))\n",
    "for x in range(len(decimal_vector)):\n",
    "    demodulated[x]=qpsk_demodulation(received[x])\n",
    "    \n",
    "#DEINTERLEAVING\n",
    "row_vector2=np.zeros(len(row_vector))\n",
    "for x in range(len(decimal_vector)):\n",
    "    row_vector2[2*x]=int(demodulated[x]/2)\n",
    "    row_vector2[2*x+1]=demodulated[x]%2\n",
    "    \n",
    "received_matrix = np.zeros((len(data2),7))\n",
    "for x in range(len(row_vector2)):\n",
    "    received_matrix[int(x/7),x%7]=row_vector2[x]\n",
    "    \n",
    "deinterleaved = np.zeros((len(data2),7))\n",
    "x=0\n",
    "for y in range(len(deinterleaved)):\n",
    "    if (y+1)%7==0:\n",
    "        deinterleaved[x:y+1,0:7]=deinterleave(received_matrix[x:y+1,0:7])\n",
    "        x=x+7\n",
    "\n",
    "#DECODING\n",
    "decoded=np.zeros((len(deinterleaved),4))\n",
    "for x in range(len(decoded)):\n",
    "    decoded[x,:]=decode(deinterleaved[x,:])\n",
    "    \n",
    "#FINAL VECTOR\n",
    "y=0\n",
    "data_hat=np.zeros(len(data))\n",
    "for x in range(len(data)):\n",
    "    data_hat[x]=decoded[y,x%4]\n",
    "    if (x+1)%4==0:\n",
    "        y=y+1\n",
    "        \n",
    "#COMPARISION\n",
    "ber=1-np.sum(data == data_hat)/length\n",
    "print(ber*100)"
   ]
  },
  {
   "cell_type": "code",
   "execution_count": 363,
   "metadata": {},
   "outputs": [
    {
     "name": "stdout",
     "output_type": "stream",
     "text": [
      "3.50864955357143\n"
     ]
    }
   ],
   "source": [
    "#WITHOUT CODING AND INTERLEAVING\n",
    "\n",
    "decimal_vector2 = np.zeros(int(len(data)/2))\n",
    "y=0\n",
    "for x in range(len(data)):\n",
    "    if (x+1)%2==0:\n",
    "        a=data[x-1]\n",
    "        b=data[x]\n",
    "        decimal_vector2[int(x/2)]=a*2+b\n",
    "\n",
    "#MODULATION\n",
    "modulated2 = np.random.normal(loc=0, scale=0, size=(len(decimal_vector2),2)).view(np.complex128)\n",
    "\n",
    "for x in range(len(decimal_vector2)):\n",
    "    modulated2[x]=qpsk_modulation(int(decimal_vector2[x]))\n",
    "    \n",
    "#ADD NOISE\n",
    "received2 = np.random.normal(loc=0, scale=0, size=(len(decimal_vector2),2)).view(np.complex128)\n",
    "for x in range(len(decimal_vector2)):\n",
    "    received2[x]=awgn_channel(modulated2[x])\n",
    "    \n",
    "#DEMODULATION\n",
    "demodulated2=np.zeros(len(decimal_vector2))\n",
    "for x in range(len(decimal_vector2)):\n",
    "    demodulated2[x]=qpsk_demodulation(received2[x])\n",
    "    \n",
    "row_vector3=np.zeros(len(data))\n",
    "for x in range(len(demodulated2)):\n",
    "    row_vector3[2*x]=int(demodulated2[x]/2)\n",
    "    row_vector3[2*x+1]=demodulated2[x]%2\n",
    "    \n",
    "#COMPARISION\n",
    "row_vector3[:]=[int(y) for y in row_vector3]\n",
    "ber2=1-np.sum(data == row_vector3)/length\n",
    "print(ber2*100)"
   ]
  },
  {
   "cell_type": "markdown",
   "metadata": {},
   "source": [
    "The bit error rates (in percentage) are displayed for the case with and without coding and interleaving, respectively. Comparing the values it is clear that the coding and interleaving procedures are important to improve the reliability of our system."
   ]
  }
 ],
 "metadata": {
  "kernelspec": {
   "display_name": "Python 3",
   "language": "python",
   "name": "python3"
  },
  "language_info": {
   "codemirror_mode": {
    "name": "ipython",
    "version": 3
   },
   "file_extension": ".py",
   "mimetype": "text/x-python",
   "name": "python",
   "nbconvert_exporter": "python",
   "pygments_lexer": "ipython3",
   "version": "3.7.3"
  }
 },
 "nbformat": 4,
 "nbformat_minor": 2
}
